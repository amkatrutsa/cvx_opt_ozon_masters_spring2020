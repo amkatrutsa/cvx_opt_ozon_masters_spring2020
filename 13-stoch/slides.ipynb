{
 "cells": [
  {
   "cell_type": "markdown",
   "metadata": {
    "slideshow": {
     "slide_type": "slide"
    }
   },
   "source": [
    "# Введение в стохастические методы"
   ]
  },
  {
   "cell_type": "markdown",
   "metadata": {
    "slideshow": {
     "slide_type": "slide"
    }
   },
   "source": [
    "## Постановка задачи\n",
    "\n",
    "$$\n",
    "\\min_x \\sum_{i=1}^N f_i(x)\n",
    "$$\n",
    "\n",
    "- Целевая функция - сумма конечного числа функций\n",
    "- $N$ может быть очень большим"
   ]
  },
  {
   "cell_type": "markdown",
   "metadata": {
    "collapsed": true,
    "slideshow": {
     "slide_type": "slide"
    }
   },
   "source": [
    "### Особенности задачи\n",
    "\n",
    "- Точное вычисление градиента занимает очень много времени\n",
    "- Высокая точность решения обычно не требуется\n",
    "- Допустимо введение случайности"
   ]
  },
  {
   "cell_type": "markdown",
   "metadata": {
    "collapsed": true,
    "slideshow": {
     "slide_type": "slide"
    }
   },
   "source": [
    "### Градиентный спуск\n",
    "\n",
    "$$\n",
    "x_{k+1} = x_{k} - \\alpha_k \\sum_{i=1}^N f_i'(x_k)\n",
    "$$\n",
    "- $\\alpha_k$ - малый шаг"
   ]
  },
  {
   "cell_type": "markdown",
   "metadata": {
    "slideshow": {
     "slide_type": "slide"
    }
   },
   "source": [
    "## SGD\n",
    "\n",
    "$$\n",
    "x_{k+1} = x_k - \\alpha_k \\sum_{i \\in \\mathcal{I}} f'_i(x_k)\n",
    "$$\n",
    "\n",
    "- $\\alpha_k = (1 - \\beta)\\alpha_0 + \\beta \\alpha_{s}$, $\\beta = \\frac{k}{\\tau}$\n",
    "\n",
    "Сходимость\n",
    "\n",
    "- Для выпуклых функций $\\mathcal{O}(1 / \\sqrt{k})$\n",
    "- Для сильно выпуклых функций $\\mathcal{O}(1 / k)$"
   ]
  },
  {
   "cell_type": "markdown",
   "metadata": {
    "slideshow": {
     "slide_type": "slide"
    }
   },
   "source": [
    "### Nesterov momentum\n",
    "\n",
    "$$\n",
    "\\begin{align*}\n",
    "& h_k = \\beta h_{k-1} - \\alpha_k \\sum_{i\\in \\mathcal{I}} f'_i(x_k + \\alpha_k h_k)\\\\\n",
    "& x_{k+1} = x_k + h_k\n",
    "\\end{align*}\n",
    "$$\n",
    "\n",
    "- Не приводит к ускорению!\n",
    "- Почему?"
   ]
  },
  {
   "cell_type": "markdown",
   "metadata": {
    "slideshow": {
     "slide_type": "slide"
    }
   },
   "source": [
    "## Adagrad\n",
    "\n",
    "\\begin{align*}\n",
    "& g_k = \\sum_{i \\in \\mathcal{I}} f'_i(x_k)\\\\\n",
    "& r = r + g_k \\cdot g_k\\\\\n",
    "& h_k = -\\frac{\\varepsilon}{\\delta + \\sqrt{r}} \\cdot g_k\\\\\n",
    "& x_{k+1} = x_k + h_k\n",
    "\\end{align*}\n",
    "\n",
    "- Диагональное шкалирование градиента\n",
    "- Учёт **всей** предыдущей истории для вычисления следующей точки\n",
    "- Не улучшает теоретические оценки сходимости"
   ]
  },
  {
   "cell_type": "markdown",
   "metadata": {
    "slideshow": {
     "slide_type": "slide"
    }
   },
   "source": [
    "## Adam\n",
    "\n",
    "\\begin{align*}\n",
    "& g_k = \\sum_{i \\in \\mathcal{I}} f'_i(x_k)\\\\\n",
    "& r = \\rho_2r + (1 - \\rho_2) g_k \\cdot g_k\\\\\n",
    "& s = \\rho_1 s + (1 - \\rho_1) g_k\\\\\n",
    "& \\hat{s} = \\frac{s}{1 - \\rho_1^k}\\\\\n",
    "& \\hat{r} = \\frac{r}{1 - \\rho_2^k}\\\\\n",
    "& h_k = -\\frac{\\varepsilon \\hat{s}}{\\delta + \\sqrt{\\hat{r}}} \\\\\n",
    "& x_{k+1} = x_k + h_k\n",
    "\\end{align*}"
   ]
  },
  {
   "cell_type": "markdown",
   "metadata": {
    "collapsed": true,
    "slideshow": {
     "slide_type": "slide"
    }
   },
   "source": [
    "## Приложения\n",
    "\n",
    "- Всё, что связано с нейросетями\n",
    "    - Компьютерное зрение\n",
    "    - Обучение с подкреплением\n",
    "    - GAN"
   ]
  },
  {
   "cell_type": "code",
   "execution_count": 3,
   "metadata": {
    "slideshow": {
     "slide_type": "slide"
    }
   },
   "outputs": [],
   "source": [
    "import torch\n",
    "import torch.nn as nn\n",
    "import torch.nn.functional as F\n",
    "import torch.optim as optim\n",
    "from torchvision import datasets, transforms\n",
    "import torchvision\n",
    "import matplotlib.pyplot as plt\n",
    "%matplotlib inline\n",
    "from IPython import display"
   ]
  },
  {
   "cell_type": "code",
   "execution_count": 2,
   "metadata": {
    "slideshow": {
     "slide_type": "slide"
    }
   },
   "outputs": [],
   "source": [
    "class Net(nn.Module):\n",
    "    def __init__(self):\n",
    "        super(Net, self).__init__()\n",
    "        self.conv1 = nn.Conv2d(1, 10, kernel_size=5)\n",
    "        self.conv2 = nn.Conv2d(10, 20, kernel_size=5)\n",
    "        self.conv2_drop = nn.Dropout2d()\n",
    "        self.fc1 = nn.Linear(320, 50)\n",
    "        self.fc2 = nn.Linear(50, 10)\n",
    "\n",
    "    def forward(self, x):\n",
    "        x = F.relu(F.max_pool2d(self.conv1(x), 2))\n",
    "        x = F.relu(F.max_pool2d(self.conv2_drop(self.conv2(x)), 2))\n",
    "        x = x.view(-1, 320)\n",
    "        x = F.relu(self.fc1(x))\n",
    "        x = F.dropout(x, training=self.training)\n",
    "        x = self.fc2(x)\n",
    "        return F.log_softmax(x, dim=1)\n",
    "\n",
    "def train(model, train_loader, optimizer, epoch, log_interval):\n",
    "    model.train()\n",
    "    current_conv = []\n",
    "    for batch_idx, (data, target) in enumerate(train_loader):\n",
    "#         data, target = data.to(device), target.to(device)\n",
    "        optimizer.zero_grad()\n",
    "        output = model(data)\n",
    "        loss = F.nll_loss(output, target)\n",
    "        loss.backward()\n",
    "        current_conv.append(loss)\n",
    "        optimizer.step()\n",
    "        if batch_idx % log_interval == 0:\n",
    "            print('Train Epoch: {} [{}/{} ({:.0f}%)]\\tLoss: {:.6f}'.format(\n",
    "                epoch, batch_idx * len(data), len(train_loader.dataset),\n",
    "                100. * batch_idx / len(train_loader), loss.item()))\n",
    "    return current_conv\n",
    "\n",
    "def test(model, test_loader):\n",
    "    model.eval()\n",
    "    test_loss = 0\n",
    "    correct = 0\n",
    "    with torch.no_grad():\n",
    "        for data, target in test_loader:\n",
    "#             data, target = data.to(device), target.to(device)\n",
    "            output = model(data)\n",
    "            test_loss += F.nll_loss(output, target, reduce=True).item() # sum up batch loss\n",
    "            pred = output.max(1, keepdim=True)[1] # get the index of the max log-probability\n",
    "            correct += pred.eq(target.view_as(pred)).sum().item()\n",
    "\n",
    "    test_loss /= len(test_loader.dataset)\n",
    "    print('\\nTest set: Average loss: {:.4f}, Accuracy: {}/{} ({:.0f}%)\\n'.format(\n",
    "        test_loss, correct, len(test_loader.dataset),\n",
    "        100. * correct / len(test_loader.dataset)))"
   ]
  },
  {
   "cell_type": "code",
   "execution_count": 4,
   "metadata": {
    "slideshow": {
     "slide_type": "slide"
    }
   },
   "outputs": [],
   "source": [
    "train_loader = torch.utils.data.DataLoader(datasets.MNIST('../data', train=True, download=True,\n",
    "                                           transform=transforms.Compose([\n",
    "                                           transforms.ToTensor(),\n",
    "#                                            transforms.Normalize((0.1307,), (0.3081,))\n",
    "                                           ])),\n",
    "                            batch_size=100, shuffle=True)\n",
    "\n",
    "test_loader = torch.utils.data.DataLoader(datasets.MNIST('../data', train=False, transform=transforms.Compose([\n",
    "                                       transforms.ToTensor(),\n",
    "#                                        transforms.Normalize((0.1307,), (0.3081,))\n",
    "                            ])),\n",
    "                batch_size=16, shuffle=True)"
   ]
  },
  {
   "cell_type": "code",
   "execution_count": 5,
   "metadata": {
    "slideshow": {
     "slide_type": "slide"
    }
   },
   "outputs": [],
   "source": [
    "epochs = 5\n",
    "log_interval = 100\n",
    "lr = 1e-3\n",
    "momentum = 0.9"
   ]
  },
  {
   "cell_type": "code",
   "execution_count": 14,
   "metadata": {
    "slideshow": {
     "slide_type": "slide"
    }
   },
   "outputs": [
    {
     "name": "stdout",
     "output_type": "stream",
     "text": [
      "Adagrad\n",
      "Train Epoch: 1 [0/60000 (0%)]\tLoss: 2.307491\n",
      "Train Epoch: 1 [10000/60000 (17%)]\tLoss: 2.009911\n",
      "Train Epoch: 1 [20000/60000 (33%)]\tLoss: 1.644359\n",
      "Train Epoch: 1 [30000/60000 (50%)]\tLoss: 1.406306\n",
      "Train Epoch: 1 [40000/60000 (67%)]\tLoss: 1.167349\n",
      "Train Epoch: 1 [50000/60000 (83%)]\tLoss: 1.217354\n",
      "\n",
      "Test set: Average loss: 0.0494, Accuracy: 8276/10000 (83%)\n",
      "\n",
      "Train Epoch: 2 [0/60000 (0%)]\tLoss: 1.109717\n",
      "Train Epoch: 2 [10000/60000 (17%)]\tLoss: 0.982835\n",
      "Train Epoch: 2 [20000/60000 (33%)]\tLoss: 1.069785\n",
      "Train Epoch: 2 [30000/60000 (50%)]\tLoss: 1.053075\n",
      "Train Epoch: 2 [40000/60000 (67%)]\tLoss: 0.963383\n",
      "Train Epoch: 2 [50000/60000 (83%)]\tLoss: 0.843664\n",
      "\n",
      "Test set: Average loss: 0.0354, Accuracy: 8634/10000 (86%)\n",
      "\n",
      "Train Epoch: 3 [0/60000 (0%)]\tLoss: 1.091188\n",
      "Train Epoch: 3 [10000/60000 (17%)]\tLoss: 0.808560\n",
      "Train Epoch: 3 [20000/60000 (33%)]\tLoss: 0.989514\n",
      "Train Epoch: 3 [30000/60000 (50%)]\tLoss: 0.869209\n",
      "Train Epoch: 3 [40000/60000 (67%)]\tLoss: 0.839994\n",
      "Train Epoch: 3 [50000/60000 (83%)]\tLoss: 0.605625\n",
      "\n",
      "Test set: Average loss: 0.0299, Accuracy: 8781/10000 (88%)\n",
      "\n",
      "Train Epoch: 4 [0/60000 (0%)]\tLoss: 0.952907\n",
      "Train Epoch: 4 [10000/60000 (17%)]\tLoss: 0.863825\n",
      "Train Epoch: 4 [20000/60000 (33%)]\tLoss: 0.680935\n",
      "Train Epoch: 4 [30000/60000 (50%)]\tLoss: 0.659186\n",
      "Train Epoch: 4 [40000/60000 (67%)]\tLoss: 0.749413\n",
      "Train Epoch: 4 [50000/60000 (83%)]\tLoss: 0.789098\n",
      "\n",
      "Test set: Average loss: 0.0267, Accuracy: 8908/10000 (89%)\n",
      "\n",
      "Train Epoch: 5 [0/60000 (0%)]\tLoss: 0.717077\n",
      "Train Epoch: 5 [10000/60000 (17%)]\tLoss: 0.629821\n",
      "Train Epoch: 5 [20000/60000 (33%)]\tLoss: 0.676780\n",
      "Train Epoch: 5 [30000/60000 (50%)]\tLoss: 0.584952\n",
      "Train Epoch: 5 [40000/60000 (67%)]\tLoss: 0.622533\n",
      "Train Epoch: 5 [50000/60000 (83%)]\tLoss: 0.604536\n",
      "\n",
      "Test set: Average loss: 0.0246, Accuracy: 8993/10000 (90%)\n",
      "\n",
      "Adam\n",
      "Train Epoch: 1 [0/60000 (0%)]\tLoss: 2.307325\n",
      "Train Epoch: 1 [10000/60000 (17%)]\tLoss: 0.829538\n",
      "Train Epoch: 1 [20000/60000 (33%)]\tLoss: 0.632819\n",
      "Train Epoch: 1 [30000/60000 (50%)]\tLoss: 0.502195\n",
      "Train Epoch: 1 [40000/60000 (67%)]\tLoss: 0.524050\n",
      "Train Epoch: 1 [50000/60000 (83%)]\tLoss: 0.537363\n",
      "\n",
      "Test set: Average loss: 0.0094, Accuracy: 9548/10000 (95%)\n",
      "\n",
      "Train Epoch: 2 [0/60000 (0%)]\tLoss: 0.452732\n",
      "Train Epoch: 2 [10000/60000 (17%)]\tLoss: 0.240061\n",
      "Train Epoch: 2 [20000/60000 (33%)]\tLoss: 0.409286\n",
      "Train Epoch: 2 [30000/60000 (50%)]\tLoss: 0.326769\n",
      "Train Epoch: 2 [40000/60000 (67%)]\tLoss: 0.377268\n",
      "Train Epoch: 2 [50000/60000 (83%)]\tLoss: 0.347498\n",
      "\n",
      "Test set: Average loss: 0.0063, Accuracy: 9683/10000 (97%)\n",
      "\n",
      "Train Epoch: 3 [0/60000 (0%)]\tLoss: 0.292114\n",
      "Train Epoch: 3 [10000/60000 (17%)]\tLoss: 0.234920\n",
      "Train Epoch: 3 [20000/60000 (33%)]\tLoss: 0.224474\n",
      "Train Epoch: 3 [30000/60000 (50%)]\tLoss: 0.240984\n",
      "Train Epoch: 3 [40000/60000 (67%)]\tLoss: 0.186866\n",
      "Train Epoch: 3 [50000/60000 (83%)]\tLoss: 0.270718\n",
      "\n",
      "Test set: Average loss: 0.0055, Accuracy: 9737/10000 (97%)\n",
      "\n",
      "Train Epoch: 4 [0/60000 (0%)]\tLoss: 0.260939\n",
      "Train Epoch: 4 [10000/60000 (17%)]\tLoss: 0.475032\n",
      "Train Epoch: 4 [20000/60000 (33%)]\tLoss: 0.170709\n",
      "Train Epoch: 4 [30000/60000 (50%)]\tLoss: 0.219895\n",
      "Train Epoch: 4 [40000/60000 (67%)]\tLoss: 0.180548\n",
      "Train Epoch: 4 [50000/60000 (83%)]\tLoss: 0.144649\n",
      "\n",
      "Test set: Average loss: 0.0049, Accuracy: 9767/10000 (98%)\n",
      "\n",
      "Train Epoch: 5 [0/60000 (0%)]\tLoss: 0.195678\n",
      "Train Epoch: 5 [10000/60000 (17%)]\tLoss: 0.177563\n",
      "Train Epoch: 5 [20000/60000 (33%)]\tLoss: 0.181507\n",
      "Train Epoch: 5 [30000/60000 (50%)]\tLoss: 0.162277\n",
      "Train Epoch: 5 [40000/60000 (67%)]\tLoss: 0.136272\n",
      "Train Epoch: 5 [50000/60000 (83%)]\tLoss: 0.272135\n",
      "\n",
      "Test set: Average loss: 0.0046, Accuracy: 9782/10000 (98%)\n",
      "\n",
      "SGD momentum\n",
      "Train Epoch: 1 [0/60000 (0%)]\tLoss: 2.296003\n",
      "Train Epoch: 1 [10000/60000 (17%)]\tLoss: 2.294571\n",
      "Train Epoch: 1 [20000/60000 (33%)]\tLoss: 2.303306\n",
      "Train Epoch: 1 [30000/60000 (50%)]\tLoss: 2.298092\n",
      "Train Epoch: 1 [40000/60000 (67%)]\tLoss: 2.290161\n",
      "Train Epoch: 1 [50000/60000 (83%)]\tLoss: 2.278874\n",
      "\n",
      "Test set: Average loss: 0.1416, Accuracy: 3897/10000 (39%)\n",
      "\n",
      "Train Epoch: 2 [0/60000 (0%)]\tLoss: 2.279875\n",
      "Train Epoch: 2 [10000/60000 (17%)]\tLoss: 2.238277\n",
      "Train Epoch: 2 [20000/60000 (33%)]\tLoss: 2.203882\n",
      "Train Epoch: 2 [30000/60000 (50%)]\tLoss: 2.116473\n",
      "Train Epoch: 2 [40000/60000 (67%)]\tLoss: 1.939205\n",
      "Train Epoch: 2 [50000/60000 (83%)]\tLoss: 1.399958\n",
      "\n",
      "Test set: Average loss: 0.0545, Accuracy: 7978/10000 (80%)\n",
      "\n",
      "Train Epoch: 3 [0/60000 (0%)]\tLoss: 1.220986\n",
      "Train Epoch: 3 [10000/60000 (17%)]\tLoss: 0.939351\n",
      "Train Epoch: 3 [20000/60000 (33%)]\tLoss: 1.076553\n",
      "Train Epoch: 3 [30000/60000 (50%)]\tLoss: 0.780574\n",
      "Train Epoch: 3 [40000/60000 (67%)]\tLoss: 0.932966\n",
      "Train Epoch: 3 [50000/60000 (83%)]\tLoss: 0.819575\n",
      "\n",
      "Test set: Average loss: 0.0261, Accuracy: 8827/10000 (88%)\n",
      "\n",
      "Train Epoch: 4 [0/60000 (0%)]\tLoss: 0.744296\n",
      "Train Epoch: 4 [10000/60000 (17%)]\tLoss: 0.788737\n",
      "Train Epoch: 4 [20000/60000 (33%)]\tLoss: 0.638014\n",
      "Train Epoch: 4 [30000/60000 (50%)]\tLoss: 0.478946\n",
      "Train Epoch: 4 [40000/60000 (67%)]\tLoss: 0.639150\n",
      "Train Epoch: 4 [50000/60000 (83%)]\tLoss: 0.634334\n",
      "\n",
      "Test set: Average loss: 0.0196, Accuracy: 9107/10000 (91%)\n",
      "\n",
      "Train Epoch: 5 [0/60000 (0%)]\tLoss: 0.481107\n",
      "Train Epoch: 5 [10000/60000 (17%)]\tLoss: 0.482807\n",
      "Train Epoch: 5 [20000/60000 (33%)]\tLoss: 0.545934\n",
      "Train Epoch: 5 [30000/60000 (50%)]\tLoss: 0.486230\n",
      "Train Epoch: 5 [40000/60000 (67%)]\tLoss: 0.596941\n",
      "Train Epoch: 5 [50000/60000 (83%)]\tLoss: 0.575775\n",
      "\n",
      "Test set: Average loss: 0.0166, Accuracy: 9190/10000 (92%)\n",
      "\n",
      "SGD\n",
      "Train Epoch: 1 [0/60000 (0%)]\tLoss: 2.320104\n",
      "Train Epoch: 1 [10000/60000 (17%)]\tLoss: 2.307236\n",
      "Train Epoch: 1 [20000/60000 (33%)]\tLoss: 2.306563\n",
      "Train Epoch: 1 [30000/60000 (50%)]\tLoss: 2.296266\n",
      "Train Epoch: 1 [40000/60000 (67%)]\tLoss: 2.312171\n",
      "Train Epoch: 1 [50000/60000 (83%)]\tLoss: 2.310392\n",
      "\n",
      "Test set: Average loss: 0.1440, Accuracy: 958/10000 (10%)\n",
      "\n",
      "Train Epoch: 2 [0/60000 (0%)]\tLoss: 2.303015\n",
      "Train Epoch: 2 [10000/60000 (17%)]\tLoss: 2.301919\n",
      "Train Epoch: 2 [20000/60000 (33%)]\tLoss: 2.293142\n",
      "Train Epoch: 2 [30000/60000 (50%)]\tLoss: 2.291230\n",
      "Train Epoch: 2 [40000/60000 (67%)]\tLoss: 2.315132\n",
      "Train Epoch: 2 [50000/60000 (83%)]\tLoss: 2.298243\n",
      "\n",
      "Test set: Average loss: 0.1439, Accuracy: 958/10000 (10%)\n",
      "\n",
      "Train Epoch: 3 [0/60000 (0%)]\tLoss: 2.305927\n",
      "Train Epoch: 3 [10000/60000 (17%)]\tLoss: 2.303994\n",
      "Train Epoch: 3 [20000/60000 (33%)]\tLoss: 2.289328\n",
      "Train Epoch: 3 [30000/60000 (50%)]\tLoss: 2.309646\n",
      "Train Epoch: 3 [40000/60000 (67%)]\tLoss: 2.302852\n",
      "Train Epoch: 3 [50000/60000 (83%)]\tLoss: 2.303312\n",
      "\n",
      "Test set: Average loss: 0.1438, Accuracy: 958/10000 (10%)\n",
      "\n",
      "Train Epoch: 4 [0/60000 (0%)]\tLoss: 2.290786\n",
      "Train Epoch: 4 [10000/60000 (17%)]\tLoss: 2.297902\n",
      "Train Epoch: 4 [20000/60000 (33%)]\tLoss: 2.297696\n",
      "Train Epoch: 4 [30000/60000 (50%)]\tLoss: 2.302908\n",
      "Train Epoch: 4 [40000/60000 (67%)]\tLoss: 2.291707\n",
      "Train Epoch: 4 [50000/60000 (83%)]\tLoss: 2.294001\n",
      "\n",
      "Test set: Average loss: 0.1436, Accuracy: 958/10000 (10%)\n",
      "\n",
      "Train Epoch: 5 [0/60000 (0%)]\tLoss: 2.304149\n",
      "Train Epoch: 5 [10000/60000 (17%)]\tLoss: 2.293862\n",
      "Train Epoch: 5 [20000/60000 (33%)]\tLoss: 2.292411\n",
      "Train Epoch: 5 [30000/60000 (50%)]\tLoss: 2.296762\n",
      "Train Epoch: 5 [40000/60000 (67%)]\tLoss: 2.287667\n",
      "Train Epoch: 5 [50000/60000 (83%)]\tLoss: 2.296644\n",
      "\n",
      "Test set: Average loss: 0.1435, Accuracy: 958/10000 (10%)\n",
      "\n"
     ]
    }
   ],
   "source": [
    "models = {\n",
    "    \"SGD\": Net(),\n",
    "    \"SGD momentum\": Net(),\n",
    "    \"Adam\": Net(),\n",
    "    \"Adagrad\": Net()\n",
    "}\n",
    "\n",
    "optimizers = {\n",
    "    \"SGD\": optim.SGD(models[\"SGD\"].parameters(), lr=lr),\n",
    "    \"SGD momentum\": optim.SGD(models[\"SGD momentum\"].parameters(), lr=lr, momentum=momentum),\n",
    "    \"Adam\": optim.Adam(models[\"Adam\"].parameters(), lr=lr),\n",
    "    \"Adagrad\": optim.Adagrad(models[\"Adagrad\"].parameters(), lr=lr)\n",
    "}\n",
    "conv = {opt_name: [] for opt_name in optimizers}\n",
    "for opt in optimizers:\n",
    "    print(opt)\n",
    "    for epoch in range(1, epochs + 1):\n",
    "        cur_conv = train(models[opt], train_loader, optimizers[opt], epoch, log_interval)\n",
    "        conv[opt] = conv[opt] + cur_conv\n",
    "#         display.clear_output(wait=True)\n",
    "#         plt.plot(conv)\n",
    "#     #     plt.yscale(\"log\")\n",
    "#         plt.show()\n",
    "        test(models[opt], test_loader)"
   ]
  },
  {
   "cell_type": "code",
   "execution_count": 15,
   "metadata": {
    "slideshow": {
     "slide_type": "slide"
    }
   },
   "outputs": [
    {
     "data": {
      "text/plain": [
       "<matplotlib.legend.Legend at 0x1233f8588>"
      ]
     },
     "execution_count": 15,
     "metadata": {},
     "output_type": "execute_result"
    },
    {
     "data": {
      "image/png": "[encoded data removed]",
      "text/plain": [
       "<Figure size 432x288 with 1 Axes>"
      ]
     },
     "metadata": {},
     "output_type": "display_data"
    }
   ],
   "source": [
    "for opt_name in conv:\n",
    "    plt.plot(conv[opt_name], label=opt_name)\n",
    "plt.legend()"
   ]
  },
  {
   "cell_type": "markdown",
   "metadata": {
    "slideshow": {
     "slide_type": "slide"
    }
   },
   "source": [
    "## Другие методы\n",
    "\n",
    "- Для PyTorch много методов собраны в репозитории https://github.com/jettify/pytorch-optimizer \n",
    "- Для них нет хорошо разработанной теории, но они эффективны на практике\n",
    "- Любая работающая эвристика с разумной мотивацией подходит!"
   ]
  },
  {
   "cell_type": "markdown",
   "metadata": {
    "slideshow": {
     "slide_type": "slide"
    }
   },
   "source": [
    "## Покоординатный спуск и методы понижения дисперсии"
   ]
  },
  {
   "cell_type": "code",
   "execution_count": 109,
   "metadata": {
    "slideshow": {
     "slide_type": "slide"
    }
   },
   "outputs": [],
   "source": [
    "from matplotlib import pyplot as plt\n",
    "import time \n",
    "\n",
    "m, n = 1000, 10\n",
    "torch.set_default_dtype(torch.float)\n",
    "A = torch.randn(m, n)\n",
    "x_true = torch.randn(n)\n",
    "b = A @ x_true + 0.01 * torch.randn(m)\n",
    "batch_size = 10\n",
    "data_loader = torch.utils.data.DataLoader(torch.utils.data.TensorDataset(A, b), batch_size=batch_size, shuffle=True)"
   ]
  },
  {
   "cell_type": "code",
   "execution_count": 110,
   "metadata": {
    "slideshow": {
     "slide_type": "slide"
    }
   },
   "outputs": [
    {
     "name": "stdout",
     "output_type": "stream",
     "text": [
      "Time SGD: 0.607553243637085\n"
     ]
    }
   ],
   "source": [
    "x = torch.randn(n)\n",
    "x_sgd = x.clone().requires_grad_(True)\n",
    "def f(A, x):\n",
    "    return A @ x\n",
    "\n",
    "opt = torch.optim.SGD([x_sgd], lr=1e-3)\n",
    "def l2_loss(x, y):\n",
    "    return (x - y) @ (x - y)  / 2.\n",
    "\n",
    "n_epoch = 10\n",
    "\n",
    "def sgd_wrap():\n",
    "    st = time.time()\n",
    "    conv_sgd = []\n",
    "    conv_sgd.append(l2_loss(b, f(A, x_sgd).view(-1)))\n",
    "    for i in range(n_epoch):\n",
    "        for a, y in data_loader:\n",
    "            opt.zero_grad()\n",
    "            loss = l2_loss(y, f(a, x_sgd).view(-1))\n",
    "            loss.backward()\n",
    "            opt.step()\n",
    "            conv_sgd.append(l2_loss(y, f(a, x_sgd).view(-1)))\n",
    "    print('Time SGD: {}'.format(time.time() - st))\n",
    "    return conv_sgd\n",
    "\n",
    "conv_sgd = sgd_wrap()"
   ]
  },
  {
   "cell_type": "code",
   "execution_count": 111,
   "metadata": {},
   "outputs": [
    {
     "data": {
      "image/png": "[encoded data removed]",
      "text/plain": [
       "<Figure size 432x288 with 1 Axes>"
      ]
     },
     "metadata": {
      "needs_background": "light"
     },
     "output_type": "display_data"
    }
   ],
   "source": [
    "plt.plot(conv_sgd)\n",
    "plt.yscale(\"log\")"
   ]
  },
  {
   "cell_type": "code",
   "execution_count": 126,
   "metadata": {
    "slideshow": {
     "slide_type": "slide"
    }
   },
   "outputs": [],
   "source": [
    "def coordinate_wise_grad(A, y, x, idx):\n",
    "    return A[:, idx].t() @ (A @ x - b)\n",
    "\n",
    "def sampler(n, block_size):\n",
    "    return torch.randint(0, n, (block_size,))\n",
    "\n",
    "\n",
    "max_iter = n_epoch \n",
    "x_rcd = x.clone()\n",
    "\n",
    "def rcd(x, alpha, max_iter, block_size=1):\n",
    "    st = time.time()\n",
    "    conv_rcd = []\n",
    "    conv_rcd.append(l2_loss(b, f(A, x)))\n",
    "    for i in range(max_iter):\n",
    "        current_shuffling = torch.randint(0, x.shape[0], (x.shape[0],))\n",
    "        for idx in current_shuffling:\n",
    "            grad_i = coordinate_wise_grad(A, b, x, idx)\n",
    "            x[idx] = x[idx] - alpha * grad_i\n",
    "            conv_rcd.append(l2_loss(b, f(A, x)))\n",
    "    print(\"Time RCD = {}\".format(time.time() - st))\n",
    "    return x, conv_rcd"
   ]
  },
  {
   "cell_type": "code",
   "execution_count": 127,
   "metadata": {
    "slideshow": {
     "slide_type": "slide"
    }
   },
   "outputs": [
    {
     "name": "stdout",
     "output_type": "stream",
     "text": [
      "Time RCD = 0.15591096878051758\n"
     ]
    }
   ],
   "source": [
    "alpha = 1e-4\n",
    "_, conv_rcd = rcd(x_rcd, alpha, 10*max_iter)"
   ]
  },
  {
   "cell_type": "code",
   "execution_count": 128,
   "metadata": {
    "slideshow": {
     "slide_type": "slide"
    }
   },
   "outputs": [
    {
     "data": {
      "text/plain": [
       "(array([1.e-07, 1.e-05, 1.e-03, 1.e-01, 1.e+01, 1.e+03, 1.e+05, 1.e+07]),\n",
       " <a list of 8 Text yticklabel objects>)"
      ]
     },
     "execution_count": 128,
     "metadata": {},
     "output_type": "execute_result"
    },
    {
     "data": {
      "image/png": "[encoded data removed]",
      "text/plain": [
       "<Figure size 432x288 with 1 Axes>"
      ]
     },
     "metadata": {
      "needs_background": "light"
     },
     "output_type": "display_data"
    }
   ],
   "source": [
    "plt.plot(conv_sgd, label=\"SGD\")\n",
    "plt.plot(conv_rcd, label=\"RCD\")\n",
    "plt.yscale(\"log\")\n",
    "plt.legend(fontsize=20)\n",
    "plt.yticks(fontsize=20)"
   ]
  },
  {
   "cell_type": "code",
   "execution_count": 129,
   "metadata": {
    "slideshow": {
     "slide_type": "slide"
    }
   },
   "outputs": [],
   "source": [
    "def sag(alpha, x0, max_iter, num_samples):\n",
    "    x = x0.clone()\n",
    "#     full_grad = A.t() @ (A @ x - b)\n",
    "    g = torch.zeros((num_samples, x.shape[0]))\n",
    "    for i in range(num_samples):\n",
    "        g[i, :] = A[i, :].t() * (A[i, :] @ x - b[i])\n",
    "    d = torch.mean(g, dim=0)\n",
    "    conv_sag = []\n",
    "    conv_sag.append(l2_loss(b, f(A, x)))\n",
    "    st = time.time()\n",
    "    for i in range(max_iter):\n",
    "        index = torch.randint(0, num_samples, (1,))\n",
    "        update_gradi = A[index, :].t() * (A[index, :] @ x - b[index])\n",
    "        d = d - g[index,:].view(-1) / num_samples + update_gradi.view(-1) / num_samples\n",
    "        g[index, :] = update_gradi.t()\n",
    "#         d = torch.mean(g, dim=0)\n",
    "        x = x - alpha * d\n",
    "        conv_sag.append(l2_loss(b, f(A, x)))\n",
    "    print('Time SAG = {}'.format(time.time() - st))\n",
    "    return conv_sag"
   ]
  },
  {
   "cell_type": "code",
   "execution_count": 134,
   "metadata": {
    "slideshow": {
     "slide_type": "slide"
    }
   },
   "outputs": [
    {
     "name": "stdout",
     "output_type": "stream",
     "text": [
      "Time SAG = 4.7486090660095215\n"
     ]
    }
   ],
   "source": [
    "x_sag = x.clone()\n",
    "alpha = 1e-3\n",
    "conv_sag = sag(alpha, x_sag, 20000, A.shape[0])"
   ]
  },
  {
   "cell_type": "code",
   "execution_count": 135,
   "metadata": {
    "slideshow": {
     "slide_type": "slide"
    }
   },
   "outputs": [
    {
     "data": {
      "text/plain": [
       "(array([1.e-07, 1.e-05, 1.e-03, 1.e-01, 1.e+01, 1.e+03, 1.e+05, 1.e+07]),\n",
       " <a list of 8 Text yticklabel objects>)"
      ]
     },
     "execution_count": 135,
     "metadata": {},
     "output_type": "execute_result"
    },
    {
     "data": {
      "image/png": "[encoded data removed]",
      "text/plain": [
       "<Figure size 432x288 with 1 Axes>"
      ]
     },
     "metadata": {
      "needs_background": "light"
     },
     "output_type": "display_data"
    }
   ],
   "source": [
    "plt.plot(conv_sgd, label=\"SGD\")\n",
    "plt.plot(conv_rcd, label=\"RCD\")\n",
    "plt.plot(conv_sag, label=\"SAG\")\n",
    "plt.yscale(\"log\")\n",
    "plt.legend(fontsize=20)\n",
    "plt.yticks(fontsize=20)"
   ]
  },
  {
   "cell_type": "code",
   "execution_count": 136,
   "metadata": {
    "slideshow": {
     "slide_type": "slide"
    }
   },
   "outputs": [],
   "source": [
    "def saga(alpha, x0, max_iter, num_samples):\n",
    "    x = x0.clone()\n",
    "    g = torch.zeros((num_samples, x.shape[0]))\n",
    "    for i in range(num_samples):\n",
    "        g[i, :] = A[i, :].t() * (A[i, :] @ x - b[i])\n",
    "    d = torch.mean(g, dim=0)\n",
    "    conv_saga = []\n",
    "    conv_saga.append(l2_loss(b, f(A, x)))\n",
    "    st = time.time()\n",
    "    for i in range(max_iter):\n",
    "        index = torch.randint(0, num_samples, (1,))\n",
    "        update_gradi = A[index[0], :] * (A[index[0], :] @ x - b[index[0]])\n",
    "        h = d - g[index,:].view(-1) + update_gradi.view(-1)\n",
    "        d = d - g[index,:].view(-1) / num_samples + update_gradi.view(-1) / num_samples\n",
    "        g[index, :] = update_gradi.t()\n",
    "        x = x - alpha * h\n",
    "        conv_saga.append(l2_loss(b, f(A, x)))\n",
    "    print('Time SAGA = {}'.format(time.time() - st))\n",
    "    return conv_saga\n",
    "\n"
   ]
  },
  {
   "cell_type": "code",
   "execution_count": 137,
   "metadata": {
    "slideshow": {
     "slide_type": "slide"
    }
   },
   "outputs": [
    {
     "name": "stdout",
     "output_type": "stream",
     "text": [
      "Time SAGA = 3.9625041484832764\n"
     ]
    }
   ],
   "source": [
    "x_saga = x.clone()\n",
    "alpha = 1e-3\n",
    "conv_saga = saga(alpha, x_saga, 20000, A.shape[0])"
   ]
  },
  {
   "cell_type": "code",
   "execution_count": 138,
   "metadata": {
    "slideshow": {
     "slide_type": "slide"
    }
   },
   "outputs": [
    {
     "data": {
      "text/plain": [
       "(array([1.e-07, 1.e-05, 1.e-03, 1.e-01, 1.e+01, 1.e+03, 1.e+05, 1.e+07]),\n",
       " <a list of 8 Text yticklabel objects>)"
      ]
     },
     "execution_count": 138,
     "metadata": {},
     "output_type": "execute_result"
    },
    {
     "data": {
      "image/png": "[encoded data removed]",
      "text/plain": [
       "<Figure size 432x288 with 1 Axes>"
      ]
     },
     "metadata": {
      "needs_background": "light"
     },
     "output_type": "display_data"
    }
   ],
   "source": [
    "plt.plot(conv_sgd, label=\"SGD\")\n",
    "plt.plot(conv_rcd, label=\"RCD\")\n",
    "plt.plot(conv_sag, label=\"SAG\")\n",
    "plt.plot(conv_saga, label=\"SAGA\")\n",
    "plt.yscale(\"log\")\n",
    "plt.legend(fontsize=20)\n",
    "plt.yticks(fontsize=20)"
   ]
  },
  {
   "cell_type": "markdown",
   "metadata": {
    "slideshow": {
     "slide_type": "slide"
    }
   },
   "source": [
    "##  Насколько эти методы применимы на практике?\n",
    "\n",
    "- Применение этих методов напрямую для обучения глубоких сетей не помогает\n",
    "- Причины\n",
    "    - Многие слои нарушают предположение о представлении целевой функции как суммы\n",
    "    - Значение градиента перед новой эпохой утсаревпет слишком сильно в проессе оптимизации внутри эпохи и не порогает уменьшить дисперсию\n",
    "- Подробности и анализ см в работе [On the Ineffectiveness of Variance Reduced\n",
    "Optimization for Deep Learning by Aaron Defazio & Leon Bottou](https://papers.nips.cc/paper/8452-on-the-ineffectiveness-of-variance-reduced-optimization-for-deep-learning.pdf)"
   ]
  }
 ],
 "metadata": {
  "celltoolbar": "Slideshow",
  "kernelspec": {
   "display_name": "Python (pytorch)",
   "language": "python",
   "name": "pytorch"
  },
  "language_info": {
   "codemirror_mode": {
    "name": "ipython",
    "version": 3
   },
   "file_extension": ".py",
   "mimetype": "text/x-python",
   "name": "python",
   "nbconvert_exporter": "python",
   "pygments_lexer": "ipython3",
   "version": "3.6.10"
  }
 },
 "nbformat": 4,
 "nbformat_minor": 2
}
