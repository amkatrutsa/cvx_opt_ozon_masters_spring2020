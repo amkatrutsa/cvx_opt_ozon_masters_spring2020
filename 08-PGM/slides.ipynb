{
 "cells": [
  {
   "cell_type": "markdown",
   "metadata": {
    "slideshow": {
     "slide_type": "slide"
    }
   },
   "source": [
    "# Minimization of non-smooth functions"
   ]
  },
  {
   "cell_type": "markdown",
   "metadata": {
    "slideshow": {
     "slide_type": "slide"
    }
   },
   "source": [
    "## Subgradient method\n",
    "\n",
    "- Analogue of the gradient descent for non-smooth convex function\n",
    "\n",
    "$$\n",
    "x_{k+1} = x_k - \\alpha_k g_k,\n",
    "$$\n",
    "\n",
    "where $g_k$ is subgradient in $x_k$\n",
    "\n",
    "- What is the difference between GD and subgradient method?"
   ]
  },
  {
   "cell_type": "markdown",
   "metadata": {
    "slideshow": {
     "slide_type": "slide"
    }
   },
   "source": [
    "$$ f(x, y) = |x| + 2|y| $$ \n",
    "\n",
    "at point $(1, 0)$"
   ]
  },
  {
   "cell_type": "markdown",
   "metadata": {
    "slideshow": {
     "slide_type": "slide"
    }
   },
   "source": [
    "### Step size selection\n",
    "\n",
    "- Constant\n",
    "- Decreasing sequence $\\alpha_k \\to 0$ and $\\sum_{k=1}^{\\infty} \\alpha_k = \\infty$"
   ]
  },
  {
   "cell_type": "markdown",
   "metadata": {
    "slideshow": {
     "slide_type": "slide"
    }
   },
   "source": [
    "### Convergence analysis\n",
    "\n",
    "- $\\|x_{k+1} - x^*\\|^2_2 = \\|x_k - \\alpha_k g_k - x^*\\|_2^2 \\leq \\|x_k - x^*\\|^2_2 - 2\\alpha_k g^{\\top}_k(x_k - x^*) + \\alpha^2_k \\|g_k\\|_2^2 \\leq \\|x_k - x^*\\|_2 - 2\\alpha_k (f(x_k) - f^*) + \\alpha^2_k \\|g\\|_2^2$\n",
    "- Denote by $f_{best}^{(k)}$ the smallest value of after $k$ iterations \n",
    "\n",
    "$$\n",
    "2 \\left(\\sum_{i=1}^k \\alpha_i\\right) (f^{(k)}_{best} - f^*) \\leq \\| x_0 - x^*\\|_2^2 - \\|x_k - x^* \\|_2^2 + \\sum_{i=1}^k \\alpha^2_i \\|g_i\\|_2^2 \\leq \\| x_0 - x^*\\|_2^2 + \\sum_{i=1}^k \\alpha^2_i \\|g_i\\|_2^2\n",
    "$$\n"
   ]
  },
  {
   "cell_type": "markdown",
   "metadata": {
    "slideshow": {
     "slide_type": "slide"
    }
   },
   "source": [
    "#### Constant step size\n",
    "\n",
    "$$\n",
    "f^{(k)}_{best} - f^* \\leq \\frac{\\| x_0 - x^*\\|_2^2}{2k\\alpha} + \\frac{G^2 \\alpha}{2}\n",
    "$$\n",
    "\n",
    "- What is $G$?\n",
    "- Dow we have convergence for $f$?"
   ]
  },
  {
   "cell_type": "markdown",
   "metadata": {
    "slideshow": {
     "slide_type": "slide"
    }
   },
   "source": [
    "### Decreasing sequence\n",
    "\n",
    "- $\\alpha_i \\to 0$ and $\\sum_i^{\\infty}\\alpha_i = \\infty$\n",
    "\n",
    "$$\n",
    "f^{(k)}_{best} - f^* \\leq \\frac{\\| x_0 - x^*\\|_2^2 + G^2 \\sum_{i=1}^k \\alpha_i^2}{2\\sum_{i=1}^k \\alpha_i}\n",
    "$$"
   ]
  },
  {
   "cell_type": "markdown",
   "metadata": {
    "slideshow": {
     "slide_type": "slide"
    }
   },
   "source": [
    "## Main rules for computing subgradients\n",
    "\n",
    "- Definition: subgradient of $g$ at point $x$: $f(y) \\geq f(x) + \\langle g, y - x \\rangle$ for all $y$\n",
    "\n",
    "    - $f(x) = |x|$\n",
    "    - $f(x) = \\| x\\|_2$\n",
    "- Sum with non-negative weights: if $f(x) = \\alpha_1 f_1(x) + \\alpha_2 f_2(x), \\alpha_1, \\alpha_2 \\geq 0$ and convex, then $\\partial f(x) = \\alpha_1 \\partial f_1(x) + \\alpha_2 f_2(x)$\n",
    "    - $f(x) = \\|x\\|_1$\n",
    "- Pointwise maximum\n",
    "    - If $f(x) = \\max_{k=1,\\dots,m} \\{ f_1(x),\\dots,f_m(x) \\}$ then \n",
    "    $$ \\partial f (x) = conv\\left(\\bigcup\\limits_{i \\in I(x)} \\partial f_i(x) \\right),$$\n",
    "    \n",
    "    where $I(x) = \\{ k \\mid f_k(x) = f(x) \\}$"
   ]
  },
  {
   "cell_type": "markdown",
   "metadata": {
    "slideshow": {
     "slide_type": "slide"
    }
   },
   "source": [
    "### Experiments\n",
    "\n",
    "$$\n",
    "\\|Ax - b\\|_1 \\to \\min_x\n",
    "$$"
   ]
  },
  {
   "cell_type": "code",
   "execution_count": 137,
   "metadata": {
    "slideshow": {
     "slide_type": "slide"
    }
   },
   "outputs": [],
   "source": [
    "import numpy as np\n",
    "import matplotlib.pyplot as plt\n",
    "%matplotlib inline\n",
    "\n",
    "import liboptpy.unconstr_solvers as methods\n",
    "import liboptpy.step_size as ss\n",
    "\n",
    "m, n = 100, 500\n",
    "A = np.random.randn(m, n)\n",
    "x_true = np.random.randn(n)\n",
    "b = A.dot(x_true)"
   ]
  },
  {
   "cell_type": "code",
   "execution_count": 138,
   "metadata": {
    "slideshow": {
     "slide_type": "slide"
    }
   },
   "outputs": [
    {
     "data": {
      "text/plain": [
       "9.198086631982463e-16"
      ]
     },
     "execution_count": 138,
     "metadata": {},
     "output_type": "execute_result"
    }
   ],
   "source": [
    "import cvxpy as cvx\n",
    "x = cvx.Variable(n)\n",
    "problem = cvx.Problem(cvx.Minimize(cvx.norm1(A * x - b)))\n",
    "problem.solve()"
   ]
  },
  {
   "cell_type": "code",
   "execution_count": 139,
   "metadata": {
    "slideshow": {
     "slide_type": "slide"
    }
   },
   "outputs": [
    {
     "data": {
      "text/plain": [
       "9.198086631982463e-16"
      ]
     },
     "execution_count": 139,
     "metadata": {},
     "output_type": "execute_result"
    }
   ],
   "source": [
    "problem.value"
   ]
  },
  {
   "cell_type": "code",
   "execution_count": 140,
   "metadata": {
    "slideshow": {
     "slide_type": "slide"
    }
   },
   "outputs": [],
   "source": [
    "f = lambda x: np.linalg.norm(A.dot(x) - b, 1)\n",
    "subgrad = lambda x: A.T.dot(np.sign(A.dot(x) - b))\n",
    "\n",
    "sg_methods = {\n",
    "    \"SM 1 / k\": methods.fo.SubgradientMethod(f, subgrad, ss.InvIterStepSize()),\n",
    "    \"SM fixed\": methods.fo.SubgradientMethod(f, subgrad, ss.ConstantStepSize(1e-3)),\n",
    "    \"SM scaled fix\": methods.fo.SubgradientMethod(f, subgrad, \n",
    "                                                  ss.ScaledConstantStepSize(1.)),\n",
    "}"
   ]
  },
  {
   "cell_type": "code",
   "execution_count": 144,
   "metadata": {
    "slideshow": {
     "slide_type": "slide"
    }
   },
   "outputs": [],
   "source": [
    "x0 = np.random.randn(n)\n",
    "max_iter = 5000"
   ]
  },
  {
   "cell_type": "code",
   "execution_count": 145,
   "metadata": {
    "slideshow": {
     "slide_type": "slide"
    }
   },
   "outputs": [],
   "source": [
    "for m in sg_methods:\n",
    "    _ = sg_methods[m].solve(x0=x0, max_iter=max_iter)"
   ]
  },
  {
   "cell_type": "code",
   "execution_count": 146,
   "metadata": {
    "slideshow": {
     "slide_type": "slide"
    }
   },
   "outputs": [
    {
     "data": {
      "image/png": "[encoded data removed]",
      "text/plain": [
       "<Figure size 432x288 with 1 Axes>"
      ]
     },
     "metadata": {},
     "output_type": "display_data"
    }
   ],
   "source": [
    "for m in sg_methods:\n",
    "    plt.semilogy([f(x) for x in sg_methods[m].get_convergence()], label=m)\n",
    "plt.legend()\n",
    "plt.xlabel(r\"Number of iterations, $k$\", fontsize=26)\n",
    "plt.ylabel(r\"Objective, $f(x_k)$\", fontsize=26)\n",
    "plt.yticks(fontsize=20)\n",
    "plt.grid(True)"
   ]
  },
  {
   "cell_type": "markdown",
   "metadata": {
    "slideshow": {
     "slide_type": "slide"
    }
   },
   "source": [
    "## Proximal methods\n",
    "\n",
    "- Look into black box\n",
    "- Acceleration through model specification"
   ]
  },
  {
   "cell_type": "markdown",
   "metadata": {
    "slideshow": {
     "slide_type": "slide"
    }
   },
   "source": [
    "### Reminder of ODE interpretation of gradient descent\n",
    "\n",
    "Consider the following ODE\n",
    "\n",
    "$$\n",
    "\\frac{dx}{dt} = -f'(x(t))\n",
    "$$\n",
    "\n",
    "and after discretization\n",
    "\n",
    "$$\n",
    "\\frac{x_{k+1} - x_k}{\\alpha} = -f'(x_k),\n",
    "$$\n",
    "\n",
    "where $\\alpha = t_{k+1} - t_k$ is a grid step and $x_k \\equiv x(t_k)$\n",
    "\n",
    "From this follows \n",
    "\n",
    "$$\n",
    "x_{k+1} = x_k - \\alpha f'(x_k),\n",
    "$$\n",
    "\n",
    "which is equivalent to gradient descent method"
   ]
  },
  {
   "cell_type": "markdown",
   "metadata": {
    "slideshow": {
     "slide_type": "slide"
    }
   },
   "source": [
    "### Proximal method as backward Euler scheme\n",
    "\n",
    "$$\n",
    "\\frac{dx}{dt} = -f'(x(t))\n",
    "$$\n",
    "\n",
    "and after discretization in backward manner\n",
    "\n",
    "$$\n",
    "\\frac{x_{k+1} - x_k}{\\alpha} = -f'({\\color{red}{x_{k+1}}}),\n",
    "$$\n",
    "\n",
    "After some re-arrangements\n",
    "\n",
    "\\begin{align*}\n",
    "& \\left(\\frac{1}{2\\alpha} \\|u - x_k\\|_2^2 + f(u) \\right)'(x_{k+1}) = 0 \\\\\n",
    "& x_{k+1} = \\arg\\min_u \\left(f(u) + \\frac{1}{2\\alpha} \\|u - x_k\\|_2^2\\right) = prox_{\\alpha f}(x_k)\n",
    "\\end{align*}\n",
    "\n"
   ]
  },
  {
   "cell_type": "markdown",
   "metadata": {
    "slideshow": {
     "slide_type": "slide"
    }
   },
   "source": [
    "### Example: iterative refinement\n",
    "\n",
    "The method to solve positive semi-definite linear system given Cholesky factorization of $A + \\epsilon I$ for some $\\epsilon$\n",
    "\n",
    "$$ f(x) = \\frac{1}{2}x^{\\top}Ax - b^{\\top}x \\to \\min_x, $$\n",
    "\n",
    "where $A \\in \\mathbb{S}^n_+$\n",
    "\n",
    "\\begin{align*}\n",
    "prox_{\\alpha f} (x_k) & = \\arg\\min_u \\left(\\frac{1}{2}u^{\\top}Au - b^{\\top}u + \\frac{1}{2\\alpha} \\|u - x_k\\|_2^2\\right) \\\\\n",
    "& = \\left(A + (1/ \\alpha) I\\right)^{-1}\\left(b + (1 / \\alpha)x_k\\right) \\\\\n",
    "& = x_k + (A + \\epsilon I)^{-1}(b - Ax_k)\n",
    "\\end{align*}"
   ]
  },
  {
   "cell_type": "code",
   "execution_count": 162,
   "metadata": {
    "slideshow": {
     "slide_type": "slide"
    }
   },
   "outputs": [
    {
     "name": "stdout",
     "output_type": "stream",
     "text": [
      "1040.615098537212 -3.621346301923184e-13 -2873558648573801.5\n",
      "-23329.33208953966\n"
     ]
    }
   ],
   "source": [
    "import scipy.linalg as splin\n",
    "n = 500\n",
    "k = 100\n",
    "A = np.random.randn(k, n)\n",
    "A = A.T @ A\n",
    "spectrum = np.linalg.eigvalsh(A)\n",
    "L, mu = max(spectrum), min(spectrum)\n",
    "print(L, mu, L / mu)\n",
    "x_true = np.random.randn(n)\n",
    "b = A @ x_true\n",
    "x0 = np.random.randn(n)\n",
    "f = lambda x: 0.5 * x @ A @ x - b @ x\n",
    "grad = lambda x: A @ x - b\n",
    "print(f(x_true))\n",
    "cho_factor = splin.cho_factor(A + 1 * np.eye(n))\n",
    "prox_quad = lambda x: x + splin.cho_solve(cho_factor, b - A @ x)"
   ]
  },
  {
   "cell_type": "code",
   "execution_count": 163,
   "metadata": {
    "slideshow": {
     "slide_type": "slide"
    }
   },
   "outputs": [],
   "source": [
    "def prox(prox_func, x0, maxiter):\n",
    "    conv = [x0.copy()]\n",
    "    x = x0.copy()\n",
    "    for i in range(maxiter):\n",
    "        x = prox_func(x)\n",
    "        conv.append(x.copy())\n",
    "    return x, conv"
   ]
  },
  {
   "cell_type": "code",
   "execution_count": 164,
   "metadata": {
    "slideshow": {
     "slide_type": "slide"
    }
   },
   "outputs": [],
   "source": [
    "import liboptpy.unconstr_solvers.fo as fo\n",
    "methods = {\n",
    "    \"GD fixed\": fo.GradientDescent(f, grad, ss.ExactLineSearch4Quad(A, b)),\n",
    "    \"Nesterov\": fo.AcceleratedGD(f, grad, ss.ConstantStepSize(1e-3))\n",
    "}\n",
    "maxiter=15"
   ]
  },
  {
   "cell_type": "code",
   "execution_count": 165,
   "metadata": {
    "slideshow": {
     "slide_type": "slide"
    }
   },
   "outputs": [],
   "source": [
    "for m in methods:\n",
    "    methods[m].solve(max_iter=maxiter, x0=x0)\n",
    "x_prox, conv_prox = prox(prox_quad, x0, maxiter)"
   ]
  },
  {
   "cell_type": "code",
   "execution_count": 166,
   "metadata": {
    "slideshow": {
     "slide_type": "slide"
    }
   },
   "outputs": [
    {
     "data": {
      "text/plain": [
       "(array([1.e-15, 1.e-13, 1.e-11, 1.e-09, 1.e-07, 1.e-05, 1.e-03, 1.e-01,\n",
       "        1.e+01, 1.e+03, 1.e+05, 1.e+07]),\n",
       " <a list of 12 Text yticklabel objects>)"
      ]
     },
     "execution_count": 166,
     "metadata": {},
     "output_type": "execute_result"
    },
    {
     "data": {
      "image/png": "[encoded data removed]",
      "text/plain": [
       "<Figure size 432x288 with 1 Axes>"
      ]
     },
     "metadata": {},
     "output_type": "display_data"
    }
   ],
   "source": [
    "for m in methods:\n",
    "    plt.plot([np.linalg.norm(grad(x)) for x in methods[m].get_convergence()], label=m)\n",
    "plt.plot([np.linalg.norm(grad(x)) for x in conv_prox], label=\"Proximal method\")\n",
    "plt.yscale(\"log\")\n",
    "plt.legend()\n",
    "plt.xlabel(r\"Number of iterations, $k$\", fontsize=26)\n",
    "plt.ylabel(r\"$\\|f'(x_k)\\|_2$\", fontsize=26)\n",
    "plt.yticks(fontsize=20)"
   ]
  },
  {
   "cell_type": "markdown",
   "metadata": {
    "slideshow": {
     "slide_type": "slide"
    }
   },
   "source": [
    "### Properties of proximal map \n",
    "\n",
    "$$ x_{k+1} = prox_{f}(x_k) $$\n",
    "\n",
    "a) Fixed point of proximal operator is equal to minimizer of $f$\n",
    "\n",
    "$$ x^* = prox_f(x^*) $$ \n",
    "\n",
    "- Proximal map is not a contraction\n",
    "\n",
    "- There exists theory on firm non-expansiveness of proximal operator\n",
    "\n",
    "- Recent [paper](https://arxiv.org/pdf/1808.03971.pdf) proposes technique to deal with such kind of non-expansiveness\n",
    "\n",
    "b) Resolvent of operator\n",
    "\n",
    "$$ prox_{\\alpha f}(x) = (I + \\alpha f')^{-1}(x) $$\n",
    "\n",
    "This property can be extended to subdifferential."
   ]
  },
  {
   "cell_type": "markdown",
   "metadata": {
    "slideshow": {
     "slide_type": "slide"
    }
   },
   "source": [
    "### Modified gradient step interpretation\n",
    "\n",
    "Assume $f$ is twice differentiable and strong convex ($f''(x) \\succ 0$).\n",
    "\n",
    "1. Gradient method as approximation of proximal method\n",
    "\n",
    "$$ x_{k+1} = prox_{\\alpha f} (x_k) = (I + \\alpha f')^{-1}(x_k) \\approx x_k - \\alpha f'(x_k) + o(\\alpha), \\; \\alpha \\to 0   $$\n",
    "\n",
    "2. Proximal method for second-order approximation $\\hat{f}(v) = f(x) + \\langle f'(x), v - x \\rangle + \\frac{1}{2}\\langle v - x, f''(x) (v - x) \\rangle$\n",
    "\n",
    "$$ prox_{\\alpha \\hat{f}}(x_k) = x_k - (f''(x_k) + (1 / \\alpha)I)^{-1}f'(x_k)  $$"
   ]
  },
  {
   "cell_type": "markdown",
   "metadata": {
    "slideshow": {
     "slide_type": "slide"
    }
   },
   "source": [
    "### Separable sum\n",
    "\n",
    "If $f$ has the form\n",
    "\n",
    "$$\n",
    "f(x) = \\sum_{i=1}^n f_i(x_i)\n",
    "$$\n",
    "\n",
    "then \n",
    "\n",
    "$$\n",
    "prox_f(v)_i = prox_{f_i}(v_i)\n",
    "$$\n",
    "\n",
    "- High parallelization of the proximal operator computing \n",
    "- **Consensus form** of the problem\n",
    "\n",
    "$$\n",
    "\\min \\sum_{i=1}^n f_i(x) \\to \\min \\sum_{i=1}^n f_i(x_i), \\; \\text{s.t. } x_1 = \\ldots = x_n\n",
    "$$\n",
    "\n",
    "- Well-stated for distributed optimization"
   ]
  },
  {
   "cell_type": "markdown",
   "metadata": {
    "slideshow": {
     "slide_type": "slide"
    }
   },
   "source": [
    "## Proximal gradient method (PGM)\n",
    "\n",
    "Consider convex function $f$ such that\n",
    "\n",
    "$$ f(x) = h(x) + g(x), $$\n",
    "\n",
    "where $h(x)$ is convex differentiable, and $g(x)$ can be convex extended-value function, so $g: \\mathbb{R}^n \\to \\mathbb{R} \\cup \\{+\\infty\\}$\n",
    "\n",
    "Then the one step of the proximal gradient method is\n",
    "\n",
    "$$ x_{k+1} = prox_{\\alpha_k g} (x_k - \\alpha_k h'(x_k)) $$\n",
    "\n",
    "- Convergence rate $\\mathcal{O}(1/k)$ for step size $\\alpha_k \\equiv \\alpha \\in (0, 1/L]$, where $L$ is Lipschitz constant of $f'$\n",
    "- Backtracking procedure is available for adaptive search of $\\alpha_k$"
   ]
  },
  {
   "cell_type": "markdown",
   "metadata": {
    "slideshow": {
     "slide_type": "slide"
    }
   },
   "source": [
    "### Fixed point iteration interpretation\n",
    "\n",
    "From the first-order optimality condition follows\n",
    "\n",
    "\\begin{align*}\n",
    "& 0 \\in \\alpha h'(x^*) + \\alpha\\partial g(x^*)\\\\\n",
    "& 0 \\in \\alpha h'(x^*) + x^* - x^* + \\alpha\\partial g(x^*)\\\\\n",
    "& (I - \\alpha h')(x^*) \\in (I + \\alpha \\partial g)(x^*)\\\\\n",
    "& x^* = (I + \\alpha \\partial g)^{-1}(I - \\alpha h')(x^*)\\\\\n",
    "& x^* = prox_{\\alpha g}(x^* - \\alpha h'(x^*))\n",
    "\\end{align*}"
   ]
  },
  {
   "cell_type": "markdown",
   "metadata": {
    "slideshow": {
     "slide_type": "slide"
    }
   },
   "source": [
    "## Evaluation proximal operators\n",
    "\n",
    "- General methods for smooth and non-smooth problems\n",
    "- Separable sum property helps a lot!\n",
    "- Solution via dual problem if constraints are simple"
   ]
  },
  {
   "cell_type": "markdown",
   "metadata": {
    "slideshow": {
     "slide_type": "slide"
    }
   },
   "source": [
    "### Оrthogonal invariant functions\n",
    "\n",
    "- **Definition.** If function $F$ such that $F(X) = F(UXV)$, where $U$ and $V$ are orthogonal matrices, then function $F$ is called **orthogonal invariant**\n",
    "- Why such functions are important?"
   ]
  },
  {
   "cell_type": "markdown",
   "metadata": {
    "slideshow": {
     "slide_type": "slide"
    }
   },
   "source": [
    "- $F(X) = F(diag(\\sigma(X)))$\n",
    "- **Claim.** Function $F$ is orthogonal invariant iff $F = f \\circ \\sigma$, where $f$ is absolutely symmetric, i.e. $f(Qx) = f(x)$ for any matrix $Q$ such that each column and each row have the single non-zero element from $\\{ -1, +1 \\}$\n",
    "- **Claim.** $F$ is convex iff $f$ is convex\n",
    "- Induce properties of $F$ from properties of $f$!"
   ]
  },
  {
   "cell_type": "markdown",
   "metadata": {
    "slideshow": {
     "slide_type": "slide"
    }
   },
   "source": [
    "- Subdifferential\n",
    "\n",
    "$$ \\partial F(X) = \\{ U \\mathrm{diag}(\\mu) V \\mid \\mu \\in \\partial f(\\mathrm{diag}(\\sigma(X))) \\}, $$\n",
    "\n",
    "where $U$ and $V$ are from SVD of $X$: $X = U \\mathrm{diag}(\\sigma) V$\n",
    "\n",
    "- Proximal map\n",
    "\n",
    "$$ prox_{\\lambda F} (A) = U prox_{\\lambda f} (\\mathrm{diag}(\\sigma(A)) V $$\n",
    "\n",
    "-  Reduce computing proximal operator of $F$ to computing proximal operator of $f$ \n",
    "\n",
    "- Reduce extracting properties of $F$ and $X$ to extracting properties of $f$ and $\\sigma(X)$"
   ]
  },
  {
   "cell_type": "markdown",
   "metadata": {
    "slideshow": {
     "slide_type": "slide"
    }
   },
   "source": [
    "## Experiments"
   ]
  },
  {
   "cell_type": "code",
   "execution_count": 9,
   "metadata": {
    "slideshow": {
     "slide_type": "slide"
    }
   },
   "outputs": [],
   "source": [
    "def prox_alg(f, f_grad, g_prox, x0, num_iter, beta=0.5, fix_lam=None, accel=False):\n",
    "    conv = [x0]\n",
    "    x = x0.copy()\n",
    "    if accel:\n",
    "        t_prev = 1\n",
    "        t_next = (1 + np.sqrt(1 + 4 * t_prev**2)) / 2.\n",
    "    if fix_lam is None:\n",
    "        lam = 1.\n",
    "    for i in range(num_iter):\n",
    "        if accel and i > 0:\n",
    "            x = x + (t_prev - 1) / t_next * (x - conv[-2])\n",
    "            t_prev = t_next\n",
    "            t_next = (1 + np.sqrt(1 + 4 * t_prev**2)) / 2.\n",
    "        if fix_lam is None:\n",
    "            while True:\n",
    "                z = g_prox(x - lam * f_grad(x), lam)\n",
    "                if f(z) <= f(x) + f_grad(x).dot(z - x) + \\\n",
    "                                np.linalg.norm(z - x)**2 / (2 * lam):\n",
    "                    break\n",
    "                else:\n",
    "                    lam = lam * beta\n",
    "        else:\n",
    "            z = g_prox(x - fix_lam * f_grad(x), fix_lam)\n",
    "        x = z.copy()\n",
    "        conv.append(x)\n",
    "    return x, conv"
   ]
  },
  {
   "cell_type": "markdown",
   "metadata": {
    "slideshow": {
     "slide_type": "slide"
    }
   },
   "source": [
    "## Lasso problem\n",
    "\n",
    "$$ \\min \\frac{1}{2}\\|Ax - b\\|_2^2 + \\gamma \\|x\\|_1 $$\n",
    "\n",
    "- $h(x) = \\frac12 \\|Ax - b\\|_2^2$\n",
    "- $g(x) = \\gamma \\|x\\|_1$"
   ]
  },
  {
   "cell_type": "code",
   "execution_count": 167,
   "metadata": {
    "slideshow": {
     "slide_type": "slide"
    }
   },
   "outputs": [],
   "source": [
    "f = lambda x: np.linalg.norm(A.dot(x) - y)**2 / 2\n",
    "f_grad = lambda x: A.T.dot(A.dot(x) - y)\n",
    "def g_prox(h, lam):\n",
    "    return np.sign(h) * np.maximum(np.abs(h) - lam * gamma, 0) "
   ]
  },
  {
   "cell_type": "code",
   "execution_count": 168,
   "metadata": {
    "slideshow": {
     "slide_type": "slide"
    }
   },
   "outputs": [
    {
     "name": "stdout",
     "output_type": "stream",
     "text": [
      "Number of nonzeros in x_true = 39\n"
     ]
    }
   ],
   "source": [
    "import sklearn.preprocessing as skprep\n",
    "m = 500\n",
    "n = 1000\n",
    "A = np.random.rand(m, n)\n",
    "A = skprep.normalize(A, norm=\"l2\", axis=0)\n",
    "L = np.linalg.eigvalsh(A.T.dot(A)).max()\n",
    "x_true = np.random.randn(n)\n",
    "x_true[np.random.rand(n) < 0.96] = 0\n",
    "print(\"Number of nonzeros in x_true = {}\".format(np.sum(x_true != 0)))\n",
    "v = 9e-2 * np.random.randn(m)\n",
    "y = A.dot(x_true) + v\n",
    "gamma = 1"
   ]
  },
  {
   "cell_type": "code",
   "execution_count": 169,
   "metadata": {
    "slideshow": {
     "slide_type": "slide"
    }
   },
   "outputs": [],
   "source": [
    "num_iter = 500\n",
    "# x0 = np.zeros(n)\n",
    "x0 = np.random.rand(n)"
   ]
  },
  {
   "cell_type": "code",
   "execution_count": 173,
   "metadata": {
    "slideshow": {
     "slide_type": "slide"
    }
   },
   "outputs": [
    {
     "name": "stdout",
     "output_type": "stream",
     "text": [
      "Number nonzeros in x* = 11\n",
      "f* = 6.323414467136995\n",
      "Number nonzeros in x* = 0\n",
      "f* = 6.053055221482773\n",
      "Number nonzeros in x* = 1000\n",
      "f* = 6.37415248533585\n"
     ]
    }
   ],
   "source": [
    "x, conv = prox_alg(f, f_grad, g_prox, x0, num_iter, fix_lam=1e-3)\n",
    "print(\"Number nonzeros in x* = {}\".format(np.sum(x != 0)))\n",
    "print(\"f* = {}\".format(f(x) + gamma * np.linalg.norm(x, 1)))\n",
    "x_acc, conv_acc = prox_alg(f, f_grad, g_prox, x0, num_iter, \n",
    "                           fix_lam=1e-3, accel=True)\n",
    "print(\"Number nonzeros in x* = {}\".format(np.sum(x_acc != 0)))\n",
    "print(\"f* = {}\".format(f(x_acc) + gamma * np.linalg.norm(x_acc, 1)))\n",
    "import liboptpy.unconstr_solvers.fo as fo\n",
    "complete_f = lambda x: f(x) + gamma * np.linalg.norm(x, 1)\n",
    "subgrad_f = lambda x: f_grad(x) + gamma * np.sign(x)\n",
    "subgrad_method = fo.SubgradientMethod(complete_f, subgrad_f, ss.ConstantStepSize(1e-4))\n",
    "x_subgrad = subgrad_method.solve(max_iter=max_iter, x0=x0)\n",
    "\n",
    "print(\"Number nonzeros in x* = {}\".format(np.sum(x_subgrad != 0)))\n",
    "print(\"f* = {}\".format(f(x_subgrad) + gamma * np.linalg.norm(x_subgrad, 1)))"
   ]
  },
  {
   "cell_type": "code",
   "execution_count": 174,
   "metadata": {
    "slideshow": {
     "slide_type": "slide"
    }
   },
   "outputs": [
    {
     "data": {
      "image/png": "[encoded data removed]",
      "text/plain": [
       "<Figure size 720x576 with 1 Axes>"
      ]
     },
     "metadata": {},
     "output_type": "display_data"
    }
   ],
   "source": [
    "plt.figure(figsize=(10, 8))\n",
    "fontsize=25\n",
    "plt.plot([f(x) + gamma * np.linalg.norm(x, 1) for x in conv], label=\"ISTA\")\n",
    "plt.plot([f(x) + gamma * np.linalg.norm(x, 1) for x in conv_acc], label=\"FISTA\")\n",
    "plt.plot([f(x) + gamma * np.linalg.norm(x, 1) for x in subgrad_method.get_convergence()], label=\"Subgrad\")\n",
    "plt.legend(fontsize=fontsize)\n",
    "plt.xlabel(r\"Number of iterations, $k$\", fontsize=fontsize)\n",
    "plt.ylabel(r\"Lasso objective, $h(x_k) + g(x_k)$\", fontsize=fontsize)\n",
    "plt.xticks(fontsize=fontsize)\n",
    "_ = plt.yticks(fontsize=fontsize)\n",
    "plt.yscale(\"log\")"
   ]
  },
  {
   "cell_type": "markdown",
   "metadata": {
    "slideshow": {
     "slide_type": "slide"
    }
   },
   "source": [
    "## Proximal algorithms highlights\n",
    "\n",
    "- Very useful for composite objectives if one item is \"simple\"\n",
    "- Many regularizers admit cheap prox evaluations\n",
    "- Distributed optimization set up"
   ]
  },
  {
   "cell_type": "markdown",
   "metadata": {
    "slideshow": {
     "slide_type": "slide"
    }
   },
   "source": [
    "## References\n",
    "\n",
    "1. [Proximal algorithms](http://web.stanford.edu/~boyd/papers/pdf/prox_algs.pdf) and related [sources](http://web.stanford.edu/~boyd/papers/prox_algs.html) by N. Parikh and S. Boyd \n",
    "2. [Gradient-based algorithms with applications to signal recovery problems](http://www.math.tau.ac.il/~teboulle/papers/gradient_chapter.pdf) by A. Beck and M. Teboulle\n",
    "3. [Proximal Backpropagation](https://arxiv.org/abs/1706.04638) by T Frerix et al (ICLR 2018)\n",
    "4. [Stochastic Proximal Gradient Descent with Acceleration Techniques](https://papers.nips.cc/paper/5610-stochastic-proximal-gradient-descent-with-acceleration-techniques.pdf) by A. Nitanda (NIPS 2014)"
   ]
  }
 ],
 "metadata": {
  "celltoolbar": "Slideshow",
  "kernelspec": {
   "display_name": "Python 3 (cvxpy)",
   "language": "python",
   "name": "cvxpy"
  },
  "language_info": {
   "codemirror_mode": {
    "name": "ipython",
    "version": 3
   },
   "file_extension": ".py",
   "mimetype": "text/x-python",
   "name": "python",
   "nbconvert_exporter": "python",
   "pygments_lexer": "ipython3",
   "version": "3.6.8"
  }
 },
 "nbformat": 4,
 "nbformat_minor": 4
}
